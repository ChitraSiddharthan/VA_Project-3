{
 "cells": [
  {
   "cell_type": "code",
   "execution_count": 13,
   "id": "2e306e60",
   "metadata": {},
   "outputs": [
    {
     "name": "stderr",
     "output_type": "stream",
     "text": [
      "c:\\users\\student\\appdata\\local\\programs\\python\\python39\\lib\\site-packages\\sklearn\\manifold\\_mds.py:299: FutureWarning:\n",
      "\n",
      "The default value of `normalized_stress` will change to `'auto'` in version 1.4. To suppress this warning, manually set the value of `normalized_stress`.\n",
      "\n"
     ]
    },
    {
     "data": {
      "application/vnd.plotly.v1+json": {
       "config": {
        "plotlyServerURL": "https://plot.ly"
       },
       "data": [
        {
         "hoverinfo": "text",
         "marker": {
          "color": [
           0,
           1,
           2,
           3,
           4,
           5,
           6,
           7,
           8,
           9,
           10,
           11,
           9,
           12,
           13,
           10,
           9,
           1,
           14,
           15,
           16,
           9,
           17,
           9,
           18,
           19,
           10,
           20,
           17,
           21,
           4,
           18,
           4,
           22,
           5,
           4,
           23,
           17,
           9,
           22,
           12,
           15,
           7,
           22,
           22,
           8,
           24,
           21,
           21,
           21,
           21,
           25,
           21,
           21,
           21,
           21,
           21,
           21,
           21,
           21,
           26,
           21,
           21,
           21,
           15,
           27,
           21,
           21,
           26,
           21,
           21,
           21,
           28,
           10,
           7,
           7,
           21,
           21,
           21,
           1,
           21,
           21,
           29,
           7,
           21,
           30,
           21,
           7,
           7,
           7,
           7,
           7,
           7,
           7,
           7,
           7,
           7,
           7,
           7,
           7,
           7,
           7,
           7,
           7,
           7,
           7,
           7,
           7,
           7,
           31,
           32,
           32,
           21,
           21
          ],
          "colorscale": [
           [
            0,
            "#440154"
           ],
           [
            0.1111111111111111,
            "#482878"
           ],
           [
            0.2222222222222222,
            "#3e4989"
           ],
           [
            0.3333333333333333,
            "#31688e"
           ],
           [
            0.4444444444444444,
            "#26828e"
           ],
           [
            0.5555555555555556,
            "#1f9e89"
           ],
           [
            0.6666666666666666,
            "#35b779"
           ],
           [
            0.7777777777777778,
            "#6ece58"
           ],
           [
            0.8888888888888888,
            "#b5de2b"
           ],
           [
            1,
            "#fde725"
           ]
          ]
         },
         "mode": "markers",
         "text": [
          "File ID: 0<br>Name: 24<br>Date: 29.0<br>Month: 5<br>Year: 2003.0<br>Location: 21<br>Country: 11",
          "File ID: 1<br>Name: 20<br>Date: 0.0<br>Month: 8<br>Year: 2002.0<br>Location: 43<br>Country: 4",
          "File ID: 2<br>Name: 19<br>Date: 23.0<br>Month: 5<br>Year: 2003.0<br>Location: 80<br>Country: 10",
          "File ID: 3<br>Name: 29<br>Date: 3.0<br>Month: 8<br>Year: 2003.0<br>Location: 66<br>Country: 6",
          "File ID: 4<br>Name: 45<br>Date: 0.0<br>Month: 14<br>Year: 0.0<br>Location: 84<br>Country: 20",
          "File ID: 5<br>Name: 54<br>Date: 22.0<br>Month: 13<br>Year: 2002.0<br>Location: 52<br>Country: 0",
          "File ID: 6<br>Name: 1<br>Date: 0.0<br>Month: 14<br>Year: 0.0<br>Location: 82<br>Country: 16",
          "File ID: 7<br>Name: 22<br>Date: 0.0<br>Month: 6<br>Year: 2002.0<br>Location: 40<br>Country: 32",
          "File ID: 8<br>Name: 5<br>Date: 2.0<br>Month: 0<br>Year: 2003.0<br>Location: 73<br>Country: 12",
          "File ID: 9<br>Name: 37<br>Date: 12.0<br>Month: 5<br>Year: 2003.0<br>Location: 75<br>Country: 17",
          "File ID: 10<br>Name: 67<br>Date: 0.0<br>Month: 14<br>Year: 0.0<br>Location: 0<br>Country: 19",
          "File ID: 11<br>Name: 41<br>Date: 0.0<br>Month: 3<br>Year: 1999.0<br>Location: 94<br>Country: 13",
          "File ID: 12<br>Name: 64<br>Date: 15.0<br>Month: 10<br>Year: 2003.0<br>Location: 75<br>Country: 17",
          "File ID: 13<br>Name: 36<br>Date: 16.0<br>Month: 10<br>Year: 2003.0<br>Location: 24<br>Country: 14",
          "File ID: 14<br>Name: 49<br>Date: 20.0<br>Month: 7<br>Year: 2003.0<br>Location: 1<br>Country: 2",
          "File ID: 15<br>Name: 48<br>Date: 0.0<br>Month: 14<br>Year: 0.0<br>Location: 72<br>Country: 19",
          "File ID: 16<br>Name: 60<br>Date: 17.0<br>Month: 6<br>Year: 2003.0<br>Location: 75<br>Country: 17",
          "File ID: 17<br>Name: 46<br>Date: 1.0<br>Month: 6<br>Year: 2003.0<br>Location: 91<br>Country: 4",
          "File ID: 18<br>Name: 15<br>Date: 0.0<br>Month: 14<br>Year: 1990.0<br>Location: 88<br>Country: 15",
          "File ID: 19<br>Name: 39<br>Date: 0.0<br>Month: 14<br>Year: 1998.0<br>Location: 48<br>Country: 21",
          "File ID: 20<br>Name: 35<br>Date: 2.0<br>Month: 5<br>Year: 2003.0<br>Location: 76<br>Country: 18",
          "File ID: 21<br>Name: 21<br>Date: 0.0<br>Month: 14<br>Year: 0.0<br>Location: 31<br>Country: 17",
          "File ID: 22<br>Name: 17<br>Date: 19.0<br>Month: 12<br>Year: 2003.0<br>Location: 44<br>Country: 8",
          "File ID: 23<br>Name: 67<br>Date: 19.0<br>Month: 12<br>Year: 2003.0<br>Location: 24<br>Country: 17",
          "File ID: 24<br>Name: 18<br>Date: 1.0<br>Month: 11<br>Year: 2003.0<br>Location: 79<br>Country: 9",
          "File ID: 25<br>Name: 43<br>Date: 20.0<br>Month: 3<br>Year: 2003.0<br>Location: 65<br>Country: 27",
          "File ID: 26<br>Name: 48<br>Date: 27.0<br>Month: 5<br>Year: 2004.0<br>Location: 70<br>Country: 19",
          "File ID: 27<br>Name: 40<br>Date: 0.0<br>Month: 14<br>Year: 0.0<br>Location: 64<br>Country: 26",
          "File ID: 28<br>Name: 14<br>Date: 0.0<br>Month: 14<br>Year: 0.0<br>Location: 94<br>Country: 8",
          "File ID: 29<br>Name: 67<br>Date: 0.0<br>Month: 14<br>Year: 0.0<br>Location: 58<br>Country: 29",
          "File ID: 30<br>Name: 67<br>Date: 15.0<br>Month: 0<br>Year: 2004.0<br>Location: 17<br>Country: 20",
          "File ID: 31<br>Name: 19<br>Date: 1.0<br>Month: 10<br>Year: 2004.0<br>Location: 79<br>Country: 9",
          "File ID: 32<br>Name: 15<br>Date: 0.0<br>Month: 14<br>Year: 1950.0<br>Location: 81<br>Country: 20",
          "File ID: 33<br>Name: 39<br>Date: 25.0<br>Month: 13<br>Year: 2003.0<br>Location: 42<br>Country: 25",
          "File ID: 34<br>Name: 8<br>Date: 0.0<br>Month: 14<br>Year: 0.0<br>Location: 94<br>Country: 0",
          "File ID: 35<br>Name: 45<br>Date: 1.0<br>Month: 13<br>Year: 0.0<br>Location: 83<br>Country: 20",
          "File ID: 36<br>Name: 67<br>Date: 0.0<br>Month: 14<br>Year: 0.0<br>Location: 89<br>Country: 7",
          "File ID: 37<br>Name: 23<br>Date: 0.0<br>Month: 14<br>Year: 0.0<br>Location: 44<br>Country: 8",
          "File ID: 38<br>Name: 67<br>Date: 17.0<br>Month: 13<br>Year: 2004.0<br>Location: 49<br>Country: 17",
          "File ID: 39<br>Name: 14<br>Date: 0.0<br>Month: 14<br>Year: 0.0<br>Location: 63<br>Country: 25",
          "File ID: 40<br>Name: 3<br>Date: 5.0<br>Month: 12<br>Year: 2004.0<br>Location: 24<br>Country: 14",
          "File ID: 41<br>Name: 67<br>Date: 0.0<br>Month: 14<br>Year: 0.0<br>Location: 78<br>Country: 21",
          "File ID: 42<br>Name: 45<br>Date: 1.0<br>Month: 13<br>Year: 2004.0<br>Location: 94<br>Country: 32",
          "File ID: 43<br>Name: 40<br>Date: 1.0<br>Month: 3<br>Year: 2004.0<br>Location: 63<br>Country: 25",
          "File ID: 44<br>Name: 40<br>Date: 15.0<br>Month: 3<br>Year: 2004.0<br>Location: 63<br>Country: 25",
          "File ID: 48<br>Name: 4<br>Date: 2.0<br>Month: 1<br>Year: 2003.0<br>Location: 94<br>Country: 12",
          "File ID: 49<br>Name: 53<br>Date: 1.0<br>Month: 10<br>Year: 2003.0<br>Location: 55<br>Country: 28",
          "File ID: 50<br>Name: 10<br>Date: 29.0<br>Month: 7<br>Year: 2003.0<br>Location: 6<br>Country: 29",
          "File ID: 51<br>Name: 59<br>Date: 27.0<br>Month: 13<br>Year: 2003.0<br>Location: 30<br>Country: 29",
          "File ID: 52<br>Name: 51<br>Date: 1.0<br>Month: 12<br>Year: 2003.0<br>Location: 27<br>Country: 29",
          "File ID: 53<br>Name: 27<br>Date: 18.0<br>Month: 6<br>Year: 1999.0<br>Location: 29<br>Country: 29",
          "File ID: 54<br>Name: 2<br>Date: 1.0<br>Month: 11<br>Year: 2003.0<br>Location: 93<br>Country: 5",
          "File ID: 55<br>Name: 38<br>Date: 1.0<br>Month: 11<br>Year: 2003.0<br>Location: 39<br>Country: 29",
          "File ID: 56<br>Name: 34<br>Date: 0.0<br>Month: 14<br>Year: 0.0<br>Location: 46<br>Country: 29",
          "File ID: 57<br>Name: 13<br>Date: 0.0<br>Month: 12<br>Year: 2003.0<br>Location: 87<br>Country: 29",
          "File ID: 58<br>Name: 26<br>Date: 20.0<br>Month: 7<br>Year: 2000.0<br>Location: 36<br>Country: 29",
          "File ID: 59<br>Name: 63<br>Date: 22.0<br>Month: 3<br>Year: 2003.0<br>Location: 3<br>Country: 29",
          "File ID: 60<br>Name: 55<br>Date: 26.0<br>Month: 3<br>Year: 2003.0<br>Location: 7<br>Country: 29",
          "File ID: 61<br>Name: 61<br>Date: 27.0<br>Month: 11<br>Year: 2003.0<br>Location: 5<br>Country: 29",
          "File ID: 62<br>Name: 28<br>Date: 2.0<br>Month: 4<br>Year: 2004.0<br>Location: 59<br>Country: 29",
          "File ID: 63<br>Name: 11<br>Date: 1.0<br>Month: 3<br>Year: 2005.0<br>Location: 57<br>Country: 23",
          "File ID: 64<br>Name: 65<br>Date: 0.0<br>Month: 14<br>Year: 0.0<br>Location: 94<br>Country: 29",
          "File ID: 65<br>Name: 9<br>Date: 5.0<br>Month: 8<br>Year: 0.0<br>Location: 9<br>Country: 29",
          "File ID: 66<br>Name: 55<br>Date: 26.0<br>Month: 3<br>Year: 2003.0<br>Location: 14<br>Country: 29",
          "File ID: 67<br>Name: 9<br>Date: 0.0<br>Month: 8<br>Year: 2004.0<br>Location: 37<br>Country: 21",
          "File ID: 68<br>Name: 25<br>Date: 0.0<br>Month: 14<br>Year: 1994.0<br>Location: 10<br>Country: 24",
          "File ID: 69<br>Name: 47<br>Date: 12.0<br>Month: 3<br>Year: 2002.0<br>Location: 54<br>Country: 29",
          "File ID: 70<br>Name: 50<br>Date: 0.0<br>Month: 14<br>Year: 0.0<br>Location: 28<br>Country: 29",
          "File ID: 71<br>Name: 12<br>Date: 2.0<br>Month: 3<br>Year: 2003.0<br>Location: 56<br>Country: 23",
          "File ID: 72<br>Name: 34<br>Date: 0.0<br>Month: 14<br>Year: 0.0<br>Location: 90<br>Country: 29",
          "File ID: 73<br>Name: 67<br>Date: 3.0<br>Month: 2<br>Year: 2004.0<br>Location: 23<br>Country: 29",
          "File ID: 74<br>Name: 66<br>Date: 20.0<br>Month: 2<br>Year: 2004.0<br>Location: 68<br>Country: 29",
          "File ID: 75<br>Name: 44<br>Date: 1.0<br>Month: 13<br>Year: 0.0<br>Location: 4<br>Country: 3",
          "File ID: 76<br>Name: 48<br>Date: 24.0<br>Month: 13<br>Year: 0.0<br>Location: 71<br>Country: 19",
          "File ID: 77<br>Name: 67<br>Date: 0.0<br>Month: 14<br>Year: 0.0<br>Location: 94<br>Country: 32",
          "File ID: 78<br>Name: 12<br>Date: 14.0<br>Month: 13<br>Year: 2004.0<br>Location: 94<br>Country: 32",
          "File ID: 79<br>Name: 57<br>Date: 0.0<br>Month: 14<br>Year: 0.0<br>Location: 38<br>Country: 29",
          "File ID: 80<br>Name: 34<br>Date: 18.0<br>Month: 13<br>Year: 2004.0<br>Location: 16<br>Country: 29",
          "File ID: 81<br>Name: 67<br>Date: 15.0<br>Month: 12<br>Year: 2004.0<br>Location: 8<br>Country: 29",
          "File ID: 82<br>Name: 58<br>Date: 25.0<br>Month: 12<br>Year: 0.0<br>Location: 11<br>Country: 4",
          "File ID: 83<br>Name: 7<br>Date: 26.0<br>Month: 12<br>Year: 2004.0<br>Location: 2<br>Country: 29",
          "File ID: 84<br>Name: 9<br>Date: 27.0<br>Month: 12<br>Year: 2004.0<br>Location: 35<br>Country: 29",
          "File ID: 85<br>Name: 67<br>Date: 1.0<br>Month: 3<br>Year: 2004.0<br>Location: 47<br>Country: 30",
          "File ID: 86<br>Name: 32<br>Date: 3.0<br>Month: 3<br>Year: 2004.0<br>Location: 92<br>Country: 32",
          "File ID: 87<br>Name: 67<br>Date: 6.0<br>Month: 3<br>Year: 2004.0<br>Location: 77<br>Country: 29",
          "File ID: 88<br>Name: 56<br>Date: 29.0<br>Month: 11<br>Year: 2004.0<br>Location: 60<br>Country: 31",
          "File ID: 89<br>Name: 62<br>Date: 20.0<br>Month: 13<br>Year: 2004.0<br>Location: 67<br>Country: 29",
          "File ID: 90<br>Name: 67<br>Date: 28.0<br>Month: 9<br>Year: 2003.0<br>Location: 53<br>Country: 32",
          "File ID: 91<br>Name: 67<br>Date: 25.0<br>Month: 0<br>Year: 2003.0<br>Location: 13<br>Country: 32",
          "File ID: 92<br>Name: 67<br>Date: 0.0<br>Month: 14<br>Year: 0.0<br>Location: 74<br>Country: 32",
          "File ID: 93<br>Name: 46<br>Date: 15.0<br>Month: 6<br>Year: 2003.0<br>Location: 69<br>Country: 32",
          "File ID: 94<br>Name: 16<br>Date: 22.0<br>Month: 12<br>Year: 2003.0<br>Location: 25<br>Country: 32",
          "File ID: 95<br>Name: 42<br>Date: 0.0<br>Month: 14<br>Year: 0.0<br>Location: 50<br>Country: 32",
          "File ID: 96<br>Name: 67<br>Date: 0.0<br>Month: 14<br>Year: 0.0<br>Location: 51<br>Country: 32",
          "File ID: 97<br>Name: 67<br>Date: 0.0<br>Month: 14<br>Year: 0.0<br>Location: 33<br>Country: 32",
          "File ID: 98<br>Name: 67<br>Date: 23.0<br>Month: 12<br>Year: 2003.0<br>Location: 26<br>Country: 32",
          "File ID: 99<br>Name: 67<br>Date: 28.0<br>Month: 3<br>Year: 2003.0<br>Location: 20<br>Country: 32",
          "File ID: 100<br>Name: 15<br>Date: 0.0<br>Month: 14<br>Year: 0.0<br>Location: 34<br>Country: 32",
          "File ID: 101<br>Name: 31<br>Date: 1.0<br>Month: 10<br>Year: 0.0<br>Location: 22<br>Country: 32",
          "File ID: 102<br>Name: 67<br>Date: 0.0<br>Month: 14<br>Year: 0.0<br>Location: 18<br>Country: 32",
          "File ID: 103<br>Name: 67<br>Date: 5.0<br>Month: 10<br>Year: 2004.0<br>Location: 61<br>Country: 32",
          "File ID: 104<br>Name: 67<br>Date: 12.0<br>Month: 13<br>Year: 2004.0<br>Location: 85<br>Country: 32",
          "File ID: 105<br>Name: 30<br>Date: 21.0<br>Month: 11<br>Year: 2004.0<br>Location: 45<br>Country: 32",
          "File ID: 106<br>Name: 67<br>Date: 0.0<br>Month: 14<br>Year: 0.0<br>Location: 19<br>Country: 32",
          "File ID: 107<br>Name: 67<br>Date: 0.0<br>Month: 14<br>Year: 0.0<br>Location: 94<br>Country: 32",
          "File ID: 108<br>Name: 52<br>Date: 15.0<br>Month: 11<br>Year: 2004.0<br>Location: 94<br>Country: 32",
          "File ID: 109<br>Name: 67<br>Date: 21.0<br>Month: 11<br>Year: 2004.0<br>Location: 32<br>Country: 32",
          "File ID: 110<br>Name: 67<br>Date: 28.0<br>Month: 11<br>Year: 2004.0<br>Location: 94<br>Country: 32",
          "File ID: 111<br>Name: 67<br>Date: 0.0<br>Month: 14<br>Year: 0.0<br>Location: 94<br>Country: 32",
          "File ID: 45<br>Name: 6<br>Date: 3.0<br>Month: 4<br>Year: 2004.0<br>Location: 12<br>Country: 22",
          "File ID: 46<br>Name: 0<br>Date: 1.0<br>Month: 4<br>Year: 2004.0<br>Location: 15<br>Country: 1",
          "File ID: 47<br>Name: 33<br>Date: 16.0<br>Month: 4<br>Year: 2004.0<br>Location: 41<br>Country: 1",
          "File ID: 112<br>Name: 67<br>Date: 3.0<br>Month: 2<br>Year: 2004.0<br>Location: 86<br>Country: 29",
          "File ID: 113<br>Name: 67<br>Date: 0.0<br>Month: 14<br>Year: 0.0<br>Location: 62<br>Country: 29"
         ],
         "type": "scatter",
         "x": [
          1.2022618652262298,
          -1.5729900702076498,
          0.5827018266145257,
          -1.2166687604478135,
          -2.843188323124672,
          -1.6230505517799292,
          -3.183435896384145,
          0.16231380129087938,
          0.303643044176182,
          0.4116030964301678,
          -3.0598137955793043,
          -0.39788122243858376,
          -0.2962712663491029,
          -0.17081633783726144,
          -0.4699902945655847,
          -2.705277118671215,
          0.7401488993856997,
          -1.055845001360451,
          -1.8764147070787731,
          -1.3467619890218077,
          0.06653672645477544,
          -2.722159164332574,
          -1.0539054878779448,
          -0.3155074949888568,
          -1.4910350839262014,
          1.68096123896705,
          1.6433526432665007,
          -2.3764744788916583,
          -3.0226348779279593,
          -2.517757022207724,
          2.2285876830648004,
          -1.3816507206845974,
          -1.6124704633148423,
          0.223979568370156,
          -3.7490824078201044,
          -2.7937121303068344,
          -3.771189198675499,
          -2.971518715930303,
          1.0817940597688371,
          -2.5000756658099497,
          -1.48059236080277,
          -2.4908463228270956,
          -0.950858558062502,
          0.7184502028402429,
          1.3170106324437347,
          1.7210587143544207,
          0.1275573104789953,
          2.3287451485407473,
          1.3118514703121613,
          -0.09978826384990454,
          1.4710836997293057,
          -1.9513341899878869,
          0.0023478563276568692,
          -1.7195710025581106,
          -0.35200411258317754,
          1.341131573526692,
          2.336365901361254,
          2.471478037970054,
          1.5598796853704906,
          0.9405061594964342,
          1.1824494890314,
          -1.3873729017195653,
          -1.1858138431209675,
          3.1963369364247534,
          -0.10097274809249848,
          -0.5173524140123602,
          2.8189866983259075,
          -1.32001492714757,
          1.265922025629691,
          -2.771267130629145,
          2.642240189028832,
          2.573037807892912,
          -2.7770321253283377,
          -0.5093566725559426,
          -1.2392923264337619,
          2.6520435400699034,
          -1.6529602531373284,
          0.7572570813908731,
          0.8281801688093412,
          -3.5594744280514434,
          2.2720853692526872,
          3.111001874708773,
          2.896257175189108,
          1.5372762282416377,
          3.479654627534313,
          2.0538244408682185,
          1.0399454455116728,
          2.368411320696596,
          3.4776990436045945,
          -0.8318774648201198,
          1.8193085831200975,
          1.7352263212585222,
          -0.9908609451457623,
          -0.7984751422251111,
          -1.09227741201081,
          1.8993589969386704,
          3.168178858553479,
          -1.672619141478863,
          -0.49361969153225504,
          -0.7547310639569609,
          1.2554792041260512,
          1.0181086552452985,
          1.6382875018113487,
          -0.7283153288433736,
          -0.7219723750294444,
          1.2740012393933458,
          1.7291309810833226,
          2.220877437240606,
          -0.6975207313360697,
          0.4989392877757851,
          -0.6032297468035648,
          0.9370895683947806,
          2.6828016565862005,
          -0.4557667278826631
         ],
         "y": [
          3.3408177984040064,
          2.9527891575751632,
          3.610847534047385,
          3.1506914050197676,
          0.1785791888813567,
          4.086924842138111,
          1.5475365108546384,
          2.423521290603771,
          4.352881193807168,
          3.1774995499714067,
          -0.2519594825214008,
          2.4787087443719313,
          1.580608706238018,
          3.0810681404422273,
          3.093924539564062,
          0.0405943795343074,
          1.9090976628683807,
          2.6417230501799702,
          1.5914143152787148,
          1.0197534042115222,
          2.892474499026882,
          0.6398469978470724,
          2.3425153835480317,
          1.3912545153860303,
          1.9937271162772199,
          1.6402567087664564,
          1.9386351381477143,
          -0.29610904348457345,
          1.3284237988254977,
          -1.0019134851758564,
          2.115277815028785,
          1.897272541853845,
          1.1128112673730097,
          0.9011602472224141,
          2.4545164989144443,
          0.4436626759429478,
          0.6536449105498857,
          0.8633523356237619,
          2.7597054822552938,
          -0.022990963675809873,
          1.6632826478398635,
          -0.7422246294419902,
          0.02006504926252745,
          1.3782733630052675,
          1.3622673911695353,
          2.513198905622198,
          -0.39692313569100707,
          0.6357679905662255,
          -1.2395604942629812,
          -0.8825368242341014,
          0.23414972683532445,
          1.8974556616006486,
          -0.33068308997864354,
          -1.404525968738141,
          -0.08153448289500378,
          -0.08199960960958996,
          -0.615631457481066,
          -0.5245758827322685,
          -1.2001840546741978,
          0.027436842774744563,
          0.8042520927598649,
          -2.1348828319137745,
          -1.1586212428467726,
          0.2186321631434798,
          0.7144497111445379,
          -0.49882511175161276,
          0.7386120359954393,
          -1.9416880629802986,
          0.6760402118819283,
          -0.8518643133931525,
          1.734755602179815,
          -0.8556990121526201,
          -1.3881435152039754,
          -1.8507253365241205,
          -2.4758045521918346,
          0.3793400120107818,
          -2.105632206549175,
          -1.1469420315846885,
          -1.6226906363347169,
          -1.6190032861118497,
          -0.060242622261529384,
          0.4921491751521042,
          -0.4730901625048243,
          -0.4410735227430951,
          -0.11832312701176664,
          -1.4569419220548152,
          -1.7846135378341665,
          -2.070905076192002,
          -1.4963010431758241,
          -3.123241934410791,
          -1.5056886459896897,
          -1.896594419765041,
          -2.783109413526719,
          -3.1865810608091096,
          -3.160747049006786,
          -2.378639900729055,
          -1.7964418250210454,
          -2.8526310556282133,
          -2.6856228650676974,
          -3.283857899278714,
          -2.953375138953631,
          -2.605853502770814,
          -2.022203547208913,
          -3.3506448700375397,
          -3.367619347660376,
          -2.2534635807245693,
          -2.5563795652608956,
          -2.607986912192717,
          -3.4367007319174605,
          1.447579218268914,
          4.169790133631443,
          2.603923469117633,
          -2.8554732729840016,
          -4.050718453686453
         ]
        }
       ],
       "layout": {
        "template": {
         "data": {
          "bar": [
           {
            "error_x": {
             "color": "#2a3f5f"
            },
            "error_y": {
             "color": "#2a3f5f"
            },
            "marker": {
             "line": {
              "color": "#E5ECF6",
              "width": 0.5
             },
             "pattern": {
              "fillmode": "overlay",
              "size": 10,
              "solidity": 0.2
             }
            },
            "type": "bar"
           }
          ],
          "barpolar": [
           {
            "marker": {
             "line": {
              "color": "#E5ECF6",
              "width": 0.5
             },
             "pattern": {
              "fillmode": "overlay",
              "size": 10,
              "solidity": 0.2
             }
            },
            "type": "barpolar"
           }
          ],
          "carpet": [
           {
            "aaxis": {
             "endlinecolor": "#2a3f5f",
             "gridcolor": "white",
             "linecolor": "white",
             "minorgridcolor": "white",
             "startlinecolor": "#2a3f5f"
            },
            "baxis": {
             "endlinecolor": "#2a3f5f",
             "gridcolor": "white",
             "linecolor": "white",
             "minorgridcolor": "white",
             "startlinecolor": "#2a3f5f"
            },
            "type": "carpet"
           }
          ],
          "choropleth": [
           {
            "colorbar": {
             "outlinewidth": 0,
             "ticks": ""
            },
            "type": "choropleth"
           }
          ],
          "contour": [
           {
            "colorbar": {
             "outlinewidth": 0,
             "ticks": ""
            },
            "colorscale": [
             [
              0,
              "#0d0887"
             ],
             [
              0.1111111111111111,
              "#46039f"
             ],
             [
              0.2222222222222222,
              "#7201a8"
             ],
             [
              0.3333333333333333,
              "#9c179e"
             ],
             [
              0.4444444444444444,
              "#bd3786"
             ],
             [
              0.5555555555555556,
              "#d8576b"
             ],
             [
              0.6666666666666666,
              "#ed7953"
             ],
             [
              0.7777777777777778,
              "#fb9f3a"
             ],
             [
              0.8888888888888888,
              "#fdca26"
             ],
             [
              1,
              "#f0f921"
             ]
            ],
            "type": "contour"
           }
          ],
          "contourcarpet": [
           {
            "colorbar": {
             "outlinewidth": 0,
             "ticks": ""
            },
            "type": "contourcarpet"
           }
          ],
          "heatmap": [
           {
            "colorbar": {
             "outlinewidth": 0,
             "ticks": ""
            },
            "colorscale": [
             [
              0,
              "#0d0887"
             ],
             [
              0.1111111111111111,
              "#46039f"
             ],
             [
              0.2222222222222222,
              "#7201a8"
             ],
             [
              0.3333333333333333,
              "#9c179e"
             ],
             [
              0.4444444444444444,
              "#bd3786"
             ],
             [
              0.5555555555555556,
              "#d8576b"
             ],
             [
              0.6666666666666666,
              "#ed7953"
             ],
             [
              0.7777777777777778,
              "#fb9f3a"
             ],
             [
              0.8888888888888888,
              "#fdca26"
             ],
             [
              1,
              "#f0f921"
             ]
            ],
            "type": "heatmap"
           }
          ],
          "heatmapgl": [
           {
            "colorbar": {
             "outlinewidth": 0,
             "ticks": ""
            },
            "colorscale": [
             [
              0,
              "#0d0887"
             ],
             [
              0.1111111111111111,
              "#46039f"
             ],
             [
              0.2222222222222222,
              "#7201a8"
             ],
             [
              0.3333333333333333,
              "#9c179e"
             ],
             [
              0.4444444444444444,
              "#bd3786"
             ],
             [
              0.5555555555555556,
              "#d8576b"
             ],
             [
              0.6666666666666666,
              "#ed7953"
             ],
             [
              0.7777777777777778,
              "#fb9f3a"
             ],
             [
              0.8888888888888888,
              "#fdca26"
             ],
             [
              1,
              "#f0f921"
             ]
            ],
            "type": "heatmapgl"
           }
          ],
          "histogram": [
           {
            "marker": {
             "pattern": {
              "fillmode": "overlay",
              "size": 10,
              "solidity": 0.2
             }
            },
            "type": "histogram"
           }
          ],
          "histogram2d": [
           {
            "colorbar": {
             "outlinewidth": 0,
             "ticks": ""
            },
            "colorscale": [
             [
              0,
              "#0d0887"
             ],
             [
              0.1111111111111111,
              "#46039f"
             ],
             [
              0.2222222222222222,
              "#7201a8"
             ],
             [
              0.3333333333333333,
              "#9c179e"
             ],
             [
              0.4444444444444444,
              "#bd3786"
             ],
             [
              0.5555555555555556,
              "#d8576b"
             ],
             [
              0.6666666666666666,
              "#ed7953"
             ],
             [
              0.7777777777777778,
              "#fb9f3a"
             ],
             [
              0.8888888888888888,
              "#fdca26"
             ],
             [
              1,
              "#f0f921"
             ]
            ],
            "type": "histogram2d"
           }
          ],
          "histogram2dcontour": [
           {
            "colorbar": {
             "outlinewidth": 0,
             "ticks": ""
            },
            "colorscale": [
             [
              0,
              "#0d0887"
             ],
             [
              0.1111111111111111,
              "#46039f"
             ],
             [
              0.2222222222222222,
              "#7201a8"
             ],
             [
              0.3333333333333333,
              "#9c179e"
             ],
             [
              0.4444444444444444,
              "#bd3786"
             ],
             [
              0.5555555555555556,
              "#d8576b"
             ],
             [
              0.6666666666666666,
              "#ed7953"
             ],
             [
              0.7777777777777778,
              "#fb9f3a"
             ],
             [
              0.8888888888888888,
              "#fdca26"
             ],
             [
              1,
              "#f0f921"
             ]
            ],
            "type": "histogram2dcontour"
           }
          ],
          "mesh3d": [
           {
            "colorbar": {
             "outlinewidth": 0,
             "ticks": ""
            },
            "type": "mesh3d"
           }
          ],
          "parcoords": [
           {
            "line": {
             "colorbar": {
              "outlinewidth": 0,
              "ticks": ""
             }
            },
            "type": "parcoords"
           }
          ],
          "pie": [
           {
            "automargin": true,
            "type": "pie"
           }
          ],
          "scatter": [
           {
            "fillpattern": {
             "fillmode": "overlay",
             "size": 10,
             "solidity": 0.2
            },
            "type": "scatter"
           }
          ],
          "scatter3d": [
           {
            "line": {
             "colorbar": {
              "outlinewidth": 0,
              "ticks": ""
             }
            },
            "marker": {
             "colorbar": {
              "outlinewidth": 0,
              "ticks": ""
             }
            },
            "type": "scatter3d"
           }
          ],
          "scattercarpet": [
           {
            "marker": {
             "colorbar": {
              "outlinewidth": 0,
              "ticks": ""
             }
            },
            "type": "scattercarpet"
           }
          ],
          "scattergeo": [
           {
            "marker": {
             "colorbar": {
              "outlinewidth": 0,
              "ticks": ""
             }
            },
            "type": "scattergeo"
           }
          ],
          "scattergl": [
           {
            "marker": {
             "colorbar": {
              "outlinewidth": 0,
              "ticks": ""
             }
            },
            "type": "scattergl"
           }
          ],
          "scattermapbox": [
           {
            "marker": {
             "colorbar": {
              "outlinewidth": 0,
              "ticks": ""
             }
            },
            "type": "scattermapbox"
           }
          ],
          "scatterpolar": [
           {
            "marker": {
             "colorbar": {
              "outlinewidth": 0,
              "ticks": ""
             }
            },
            "type": "scatterpolar"
           }
          ],
          "scatterpolargl": [
           {
            "marker": {
             "colorbar": {
              "outlinewidth": 0,
              "ticks": ""
             }
            },
            "type": "scatterpolargl"
           }
          ],
          "scatterternary": [
           {
            "marker": {
             "colorbar": {
              "outlinewidth": 0,
              "ticks": ""
             }
            },
            "type": "scatterternary"
           }
          ],
          "surface": [
           {
            "colorbar": {
             "outlinewidth": 0,
             "ticks": ""
            },
            "colorscale": [
             [
              0,
              "#0d0887"
             ],
             [
              0.1111111111111111,
              "#46039f"
             ],
             [
              0.2222222222222222,
              "#7201a8"
             ],
             [
              0.3333333333333333,
              "#9c179e"
             ],
             [
              0.4444444444444444,
              "#bd3786"
             ],
             [
              0.5555555555555556,
              "#d8576b"
             ],
             [
              0.6666666666666666,
              "#ed7953"
             ],
             [
              0.7777777777777778,
              "#fb9f3a"
             ],
             [
              0.8888888888888888,
              "#fdca26"
             ],
             [
              1,
              "#f0f921"
             ]
            ],
            "type": "surface"
           }
          ],
          "table": [
           {
            "cells": {
             "fill": {
              "color": "#EBF0F8"
             },
             "line": {
              "color": "white"
             }
            },
            "header": {
             "fill": {
              "color": "#C8D4E3"
             },
             "line": {
              "color": "white"
             }
            },
            "type": "table"
           }
          ]
         },
         "layout": {
          "annotationdefaults": {
           "arrowcolor": "#2a3f5f",
           "arrowhead": 0,
           "arrowwidth": 1
          },
          "autotypenumbers": "strict",
          "coloraxis": {
           "colorbar": {
            "outlinewidth": 0,
            "ticks": ""
           }
          },
          "colorscale": {
           "diverging": [
            [
             0,
             "#8e0152"
            ],
            [
             0.1,
             "#c51b7d"
            ],
            [
             0.2,
             "#de77ae"
            ],
            [
             0.3,
             "#f1b6da"
            ],
            [
             0.4,
             "#fde0ef"
            ],
            [
             0.5,
             "#f7f7f7"
            ],
            [
             0.6,
             "#e6f5d0"
            ],
            [
             0.7,
             "#b8e186"
            ],
            [
             0.8,
             "#7fbc41"
            ],
            [
             0.9,
             "#4d9221"
            ],
            [
             1,
             "#276419"
            ]
           ],
           "sequential": [
            [
             0,
             "#0d0887"
            ],
            [
             0.1111111111111111,
             "#46039f"
            ],
            [
             0.2222222222222222,
             "#7201a8"
            ],
            [
             0.3333333333333333,
             "#9c179e"
            ],
            [
             0.4444444444444444,
             "#bd3786"
            ],
            [
             0.5555555555555556,
             "#d8576b"
            ],
            [
             0.6666666666666666,
             "#ed7953"
            ],
            [
             0.7777777777777778,
             "#fb9f3a"
            ],
            [
             0.8888888888888888,
             "#fdca26"
            ],
            [
             1,
             "#f0f921"
            ]
           ],
           "sequentialminus": [
            [
             0,
             "#0d0887"
            ],
            [
             0.1111111111111111,
             "#46039f"
            ],
            [
             0.2222222222222222,
             "#7201a8"
            ],
            [
             0.3333333333333333,
             "#9c179e"
            ],
            [
             0.4444444444444444,
             "#bd3786"
            ],
            [
             0.5555555555555556,
             "#d8576b"
            ],
            [
             0.6666666666666666,
             "#ed7953"
            ],
            [
             0.7777777777777778,
             "#fb9f3a"
            ],
            [
             0.8888888888888888,
             "#fdca26"
            ],
            [
             1,
             "#f0f921"
            ]
           ]
          },
          "colorway": [
           "#636efa",
           "#EF553B",
           "#00cc96",
           "#ab63fa",
           "#FFA15A",
           "#19d3f3",
           "#FF6692",
           "#B6E880",
           "#FF97FF",
           "#FECB52"
          ],
          "font": {
           "color": "#2a3f5f"
          },
          "geo": {
           "bgcolor": "white",
           "lakecolor": "white",
           "landcolor": "#E5ECF6",
           "showlakes": true,
           "showland": true,
           "subunitcolor": "white"
          },
          "hoverlabel": {
           "align": "left"
          },
          "hovermode": "closest",
          "mapbox": {
           "style": "light"
          },
          "paper_bgcolor": "white",
          "plot_bgcolor": "#E5ECF6",
          "polar": {
           "angularaxis": {
            "gridcolor": "white",
            "linecolor": "white",
            "ticks": ""
           },
           "bgcolor": "#E5ECF6",
           "radialaxis": {
            "gridcolor": "white",
            "linecolor": "white",
            "ticks": ""
           }
          },
          "scene": {
           "xaxis": {
            "backgroundcolor": "#E5ECF6",
            "gridcolor": "white",
            "gridwidth": 2,
            "linecolor": "white",
            "showbackground": true,
            "ticks": "",
            "zerolinecolor": "white"
           },
           "yaxis": {
            "backgroundcolor": "#E5ECF6",
            "gridcolor": "white",
            "gridwidth": 2,
            "linecolor": "white",
            "showbackground": true,
            "ticks": "",
            "zerolinecolor": "white"
           },
           "zaxis": {
            "backgroundcolor": "#E5ECF6",
            "gridcolor": "white",
            "gridwidth": 2,
            "linecolor": "white",
            "showbackground": true,
            "ticks": "",
            "zerolinecolor": "white"
           }
          },
          "shapedefaults": {
           "line": {
            "color": "#2a3f5f"
           }
          },
          "ternary": {
           "aaxis": {
            "gridcolor": "white",
            "linecolor": "white",
            "ticks": ""
           },
           "baxis": {
            "gridcolor": "white",
            "linecolor": "white",
            "ticks": ""
           },
           "bgcolor": "#E5ECF6",
           "caxis": {
            "gridcolor": "white",
            "linecolor": "white",
            "ticks": ""
           }
          },
          "title": {
           "x": 0.05
          },
          "xaxis": {
           "automargin": true,
           "gridcolor": "white",
           "linecolor": "white",
           "ticks": "",
           "title": {
            "standoff": 15
           },
           "zerolinecolor": "white",
           "zerolinewidth": 2
          },
          "yaxis": {
           "automargin": true,
           "gridcolor": "white",
           "linecolor": "white",
           "ticks": "",
           "title": {
            "standoff": 15
           },
           "zerolinecolor": "white",
           "zerolinewidth": 2
          }
         }
        },
        "title": {
         "text": "Interactive Scatter Plot of MDS Results"
        }
       }
      },
      "text/html": [
       "<div>                            <div id=\"42fbb7d2-ea2f-4467-b9ab-28a0e15823ad\" class=\"plotly-graph-div\" style=\"height:525px; width:100%;\"></div>            <script type=\"text/javascript\">                require([\"plotly\"], function(Plotly) {                    window.PLOTLYENV=window.PLOTLYENV || {};                                    if (document.getElementById(\"42fbb7d2-ea2f-4467-b9ab-28a0e15823ad\")) {                    Plotly.newPlot(                        \"42fbb7d2-ea2f-4467-b9ab-28a0e15823ad\",                        [{\"hoverinfo\":\"text\",\"marker\":{\"color\":[0,1,2,3,4,5,6,7,8,9,10,11,9,12,13,10,9,1,14,15,16,9,17,9,18,19,10,20,17,21,4,18,4,22,5,4,23,17,9,22,12,15,7,22,22,8,24,21,21,21,21,25,21,21,21,21,21,21,21,21,26,21,21,21,15,27,21,21,26,21,21,21,28,10,7,7,21,21,21,1,21,21,29,7,21,30,21,7,7,7,7,7,7,7,7,7,7,7,7,7,7,7,7,7,7,7,7,7,7,31,32,32,21,21],\"colorscale\":[[0.0,\"#440154\"],[0.1111111111111111,\"#482878\"],[0.2222222222222222,\"#3e4989\"],[0.3333333333333333,\"#31688e\"],[0.4444444444444444,\"#26828e\"],[0.5555555555555556,\"#1f9e89\"],[0.6666666666666666,\"#35b779\"],[0.7777777777777778,\"#6ece58\"],[0.8888888888888888,\"#b5de2b\"],[1.0,\"#fde725\"]]},\"mode\":\"markers\",\"text\":[\"File ID: 0<br>Name: 24<br>Date: 29.0<br>Month: 5<br>Year: 2003.0<br>Location: 21<br>Country: 11\",\"File ID: 1<br>Name: 20<br>Date: 0.0<br>Month: 8<br>Year: 2002.0<br>Location: 43<br>Country: 4\",\"File ID: 2<br>Name: 19<br>Date: 23.0<br>Month: 5<br>Year: 2003.0<br>Location: 80<br>Country: 10\",\"File ID: 3<br>Name: 29<br>Date: 3.0<br>Month: 8<br>Year: 2003.0<br>Location: 66<br>Country: 6\",\"File ID: 4<br>Name: 45<br>Date: 0.0<br>Month: 14<br>Year: 0.0<br>Location: 84<br>Country: 20\",\"File ID: 5<br>Name: 54<br>Date: 22.0<br>Month: 13<br>Year: 2002.0<br>Location: 52<br>Country: 0\",\"File ID: 6<br>Name: 1<br>Date: 0.0<br>Month: 14<br>Year: 0.0<br>Location: 82<br>Country: 16\",\"File ID: 7<br>Name: 22<br>Date: 0.0<br>Month: 6<br>Year: 2002.0<br>Location: 40<br>Country: 32\",\"File ID: 8<br>Name: 5<br>Date: 2.0<br>Month: 0<br>Year: 2003.0<br>Location: 73<br>Country: 12\",\"File ID: 9<br>Name: 37<br>Date: 12.0<br>Month: 5<br>Year: 2003.0<br>Location: 75<br>Country: 17\",\"File ID: 10<br>Name: 67<br>Date: 0.0<br>Month: 14<br>Year: 0.0<br>Location: 0<br>Country: 19\",\"File ID: 11<br>Name: 41<br>Date: 0.0<br>Month: 3<br>Year: 1999.0<br>Location: 94<br>Country: 13\",\"File ID: 12<br>Name: 64<br>Date: 15.0<br>Month: 10<br>Year: 2003.0<br>Location: 75<br>Country: 17\",\"File ID: 13<br>Name: 36<br>Date: 16.0<br>Month: 10<br>Year: 2003.0<br>Location: 24<br>Country: 14\",\"File ID: 14<br>Name: 49<br>Date: 20.0<br>Month: 7<br>Year: 2003.0<br>Location: 1<br>Country: 2\",\"File ID: 15<br>Name: 48<br>Date: 0.0<br>Month: 14<br>Year: 0.0<br>Location: 72<br>Country: 19\",\"File ID: 16<br>Name: 60<br>Date: 17.0<br>Month: 6<br>Year: 2003.0<br>Location: 75<br>Country: 17\",\"File ID: 17<br>Name: 46<br>Date: 1.0<br>Month: 6<br>Year: 2003.0<br>Location: 91<br>Country: 4\",\"File ID: 18<br>Name: 15<br>Date: 0.0<br>Month: 14<br>Year: 1990.0<br>Location: 88<br>Country: 15\",\"File ID: 19<br>Name: 39<br>Date: 0.0<br>Month: 14<br>Year: 1998.0<br>Location: 48<br>Country: 21\",\"File ID: 20<br>Name: 35<br>Date: 2.0<br>Month: 5<br>Year: 2003.0<br>Location: 76<br>Country: 18\",\"File ID: 21<br>Name: 21<br>Date: 0.0<br>Month: 14<br>Year: 0.0<br>Location: 31<br>Country: 17\",\"File ID: 22<br>Name: 17<br>Date: 19.0<br>Month: 12<br>Year: 2003.0<br>Location: 44<br>Country: 8\",\"File ID: 23<br>Name: 67<br>Date: 19.0<br>Month: 12<br>Year: 2003.0<br>Location: 24<br>Country: 17\",\"File ID: 24<br>Name: 18<br>Date: 1.0<br>Month: 11<br>Year: 2003.0<br>Location: 79<br>Country: 9\",\"File ID: 25<br>Name: 43<br>Date: 20.0<br>Month: 3<br>Year: 2003.0<br>Location: 65<br>Country: 27\",\"File ID: 26<br>Name: 48<br>Date: 27.0<br>Month: 5<br>Year: 2004.0<br>Location: 70<br>Country: 19\",\"File ID: 27<br>Name: 40<br>Date: 0.0<br>Month: 14<br>Year: 0.0<br>Location: 64<br>Country: 26\",\"File ID: 28<br>Name: 14<br>Date: 0.0<br>Month: 14<br>Year: 0.0<br>Location: 94<br>Country: 8\",\"File ID: 29<br>Name: 67<br>Date: 0.0<br>Month: 14<br>Year: 0.0<br>Location: 58<br>Country: 29\",\"File ID: 30<br>Name: 67<br>Date: 15.0<br>Month: 0<br>Year: 2004.0<br>Location: 17<br>Country: 20\",\"File ID: 31<br>Name: 19<br>Date: 1.0<br>Month: 10<br>Year: 2004.0<br>Location: 79<br>Country: 9\",\"File ID: 32<br>Name: 15<br>Date: 0.0<br>Month: 14<br>Year: 1950.0<br>Location: 81<br>Country: 20\",\"File ID: 33<br>Name: 39<br>Date: 25.0<br>Month: 13<br>Year: 2003.0<br>Location: 42<br>Country: 25\",\"File ID: 34<br>Name: 8<br>Date: 0.0<br>Month: 14<br>Year: 0.0<br>Location: 94<br>Country: 0\",\"File ID: 35<br>Name: 45<br>Date: 1.0<br>Month: 13<br>Year: 0.0<br>Location: 83<br>Country: 20\",\"File ID: 36<br>Name: 67<br>Date: 0.0<br>Month: 14<br>Year: 0.0<br>Location: 89<br>Country: 7\",\"File ID: 37<br>Name: 23<br>Date: 0.0<br>Month: 14<br>Year: 0.0<br>Location: 44<br>Country: 8\",\"File ID: 38<br>Name: 67<br>Date: 17.0<br>Month: 13<br>Year: 2004.0<br>Location: 49<br>Country: 17\",\"File ID: 39<br>Name: 14<br>Date: 0.0<br>Month: 14<br>Year: 0.0<br>Location: 63<br>Country: 25\",\"File ID: 40<br>Name: 3<br>Date: 5.0<br>Month: 12<br>Year: 2004.0<br>Location: 24<br>Country: 14\",\"File ID: 41<br>Name: 67<br>Date: 0.0<br>Month: 14<br>Year: 0.0<br>Location: 78<br>Country: 21\",\"File ID: 42<br>Name: 45<br>Date: 1.0<br>Month: 13<br>Year: 2004.0<br>Location: 94<br>Country: 32\",\"File ID: 43<br>Name: 40<br>Date: 1.0<br>Month: 3<br>Year: 2004.0<br>Location: 63<br>Country: 25\",\"File ID: 44<br>Name: 40<br>Date: 15.0<br>Month: 3<br>Year: 2004.0<br>Location: 63<br>Country: 25\",\"File ID: 48<br>Name: 4<br>Date: 2.0<br>Month: 1<br>Year: 2003.0<br>Location: 94<br>Country: 12\",\"File ID: 49<br>Name: 53<br>Date: 1.0<br>Month: 10<br>Year: 2003.0<br>Location: 55<br>Country: 28\",\"File ID: 50<br>Name: 10<br>Date: 29.0<br>Month: 7<br>Year: 2003.0<br>Location: 6<br>Country: 29\",\"File ID: 51<br>Name: 59<br>Date: 27.0<br>Month: 13<br>Year: 2003.0<br>Location: 30<br>Country: 29\",\"File ID: 52<br>Name: 51<br>Date: 1.0<br>Month: 12<br>Year: 2003.0<br>Location: 27<br>Country: 29\",\"File ID: 53<br>Name: 27<br>Date: 18.0<br>Month: 6<br>Year: 1999.0<br>Location: 29<br>Country: 29\",\"File ID: 54<br>Name: 2<br>Date: 1.0<br>Month: 11<br>Year: 2003.0<br>Location: 93<br>Country: 5\",\"File ID: 55<br>Name: 38<br>Date: 1.0<br>Month: 11<br>Year: 2003.0<br>Location: 39<br>Country: 29\",\"File ID: 56<br>Name: 34<br>Date: 0.0<br>Month: 14<br>Year: 0.0<br>Location: 46<br>Country: 29\",\"File ID: 57<br>Name: 13<br>Date: 0.0<br>Month: 12<br>Year: 2003.0<br>Location: 87<br>Country: 29\",\"File ID: 58<br>Name: 26<br>Date: 20.0<br>Month: 7<br>Year: 2000.0<br>Location: 36<br>Country: 29\",\"File ID: 59<br>Name: 63<br>Date: 22.0<br>Month: 3<br>Year: 2003.0<br>Location: 3<br>Country: 29\",\"File ID: 60<br>Name: 55<br>Date: 26.0<br>Month: 3<br>Year: 2003.0<br>Location: 7<br>Country: 29\",\"File ID: 61<br>Name: 61<br>Date: 27.0<br>Month: 11<br>Year: 2003.0<br>Location: 5<br>Country: 29\",\"File ID: 62<br>Name: 28<br>Date: 2.0<br>Month: 4<br>Year: 2004.0<br>Location: 59<br>Country: 29\",\"File ID: 63<br>Name: 11<br>Date: 1.0<br>Month: 3<br>Year: 2005.0<br>Location: 57<br>Country: 23\",\"File ID: 64<br>Name: 65<br>Date: 0.0<br>Month: 14<br>Year: 0.0<br>Location: 94<br>Country: 29\",\"File ID: 65<br>Name: 9<br>Date: 5.0<br>Month: 8<br>Year: 0.0<br>Location: 9<br>Country: 29\",\"File ID: 66<br>Name: 55<br>Date: 26.0<br>Month: 3<br>Year: 2003.0<br>Location: 14<br>Country: 29\",\"File ID: 67<br>Name: 9<br>Date: 0.0<br>Month: 8<br>Year: 2004.0<br>Location: 37<br>Country: 21\",\"File ID: 68<br>Name: 25<br>Date: 0.0<br>Month: 14<br>Year: 1994.0<br>Location: 10<br>Country: 24\",\"File ID: 69<br>Name: 47<br>Date: 12.0<br>Month: 3<br>Year: 2002.0<br>Location: 54<br>Country: 29\",\"File ID: 70<br>Name: 50<br>Date: 0.0<br>Month: 14<br>Year: 0.0<br>Location: 28<br>Country: 29\",\"File ID: 71<br>Name: 12<br>Date: 2.0<br>Month: 3<br>Year: 2003.0<br>Location: 56<br>Country: 23\",\"File ID: 72<br>Name: 34<br>Date: 0.0<br>Month: 14<br>Year: 0.0<br>Location: 90<br>Country: 29\",\"File ID: 73<br>Name: 67<br>Date: 3.0<br>Month: 2<br>Year: 2004.0<br>Location: 23<br>Country: 29\",\"File ID: 74<br>Name: 66<br>Date: 20.0<br>Month: 2<br>Year: 2004.0<br>Location: 68<br>Country: 29\",\"File ID: 75<br>Name: 44<br>Date: 1.0<br>Month: 13<br>Year: 0.0<br>Location: 4<br>Country: 3\",\"File ID: 76<br>Name: 48<br>Date: 24.0<br>Month: 13<br>Year: 0.0<br>Location: 71<br>Country: 19\",\"File ID: 77<br>Name: 67<br>Date: 0.0<br>Month: 14<br>Year: 0.0<br>Location: 94<br>Country: 32\",\"File ID: 78<br>Name: 12<br>Date: 14.0<br>Month: 13<br>Year: 2004.0<br>Location: 94<br>Country: 32\",\"File ID: 79<br>Name: 57<br>Date: 0.0<br>Month: 14<br>Year: 0.0<br>Location: 38<br>Country: 29\",\"File ID: 80<br>Name: 34<br>Date: 18.0<br>Month: 13<br>Year: 2004.0<br>Location: 16<br>Country: 29\",\"File ID: 81<br>Name: 67<br>Date: 15.0<br>Month: 12<br>Year: 2004.0<br>Location: 8<br>Country: 29\",\"File ID: 82<br>Name: 58<br>Date: 25.0<br>Month: 12<br>Year: 0.0<br>Location: 11<br>Country: 4\",\"File ID: 83<br>Name: 7<br>Date: 26.0<br>Month: 12<br>Year: 2004.0<br>Location: 2<br>Country: 29\",\"File ID: 84<br>Name: 9<br>Date: 27.0<br>Month: 12<br>Year: 2004.0<br>Location: 35<br>Country: 29\",\"File ID: 85<br>Name: 67<br>Date: 1.0<br>Month: 3<br>Year: 2004.0<br>Location: 47<br>Country: 30\",\"File ID: 86<br>Name: 32<br>Date: 3.0<br>Month: 3<br>Year: 2004.0<br>Location: 92<br>Country: 32\",\"File ID: 87<br>Name: 67<br>Date: 6.0<br>Month: 3<br>Year: 2004.0<br>Location: 77<br>Country: 29\",\"File ID: 88<br>Name: 56<br>Date: 29.0<br>Month: 11<br>Year: 2004.0<br>Location: 60<br>Country: 31\",\"File ID: 89<br>Name: 62<br>Date: 20.0<br>Month: 13<br>Year: 2004.0<br>Location: 67<br>Country: 29\",\"File ID: 90<br>Name: 67<br>Date: 28.0<br>Month: 9<br>Year: 2003.0<br>Location: 53<br>Country: 32\",\"File ID: 91<br>Name: 67<br>Date: 25.0<br>Month: 0<br>Year: 2003.0<br>Location: 13<br>Country: 32\",\"File ID: 92<br>Name: 67<br>Date: 0.0<br>Month: 14<br>Year: 0.0<br>Location: 74<br>Country: 32\",\"File ID: 93<br>Name: 46<br>Date: 15.0<br>Month: 6<br>Year: 2003.0<br>Location: 69<br>Country: 32\",\"File ID: 94<br>Name: 16<br>Date: 22.0<br>Month: 12<br>Year: 2003.0<br>Location: 25<br>Country: 32\",\"File ID: 95<br>Name: 42<br>Date: 0.0<br>Month: 14<br>Year: 0.0<br>Location: 50<br>Country: 32\",\"File ID: 96<br>Name: 67<br>Date: 0.0<br>Month: 14<br>Year: 0.0<br>Location: 51<br>Country: 32\",\"File ID: 97<br>Name: 67<br>Date: 0.0<br>Month: 14<br>Year: 0.0<br>Location: 33<br>Country: 32\",\"File ID: 98<br>Name: 67<br>Date: 23.0<br>Month: 12<br>Year: 2003.0<br>Location: 26<br>Country: 32\",\"File ID: 99<br>Name: 67<br>Date: 28.0<br>Month: 3<br>Year: 2003.0<br>Location: 20<br>Country: 32\",\"File ID: 100<br>Name: 15<br>Date: 0.0<br>Month: 14<br>Year: 0.0<br>Location: 34<br>Country: 32\",\"File ID: 101<br>Name: 31<br>Date: 1.0<br>Month: 10<br>Year: 0.0<br>Location: 22<br>Country: 32\",\"File ID: 102<br>Name: 67<br>Date: 0.0<br>Month: 14<br>Year: 0.0<br>Location: 18<br>Country: 32\",\"File ID: 103<br>Name: 67<br>Date: 5.0<br>Month: 10<br>Year: 2004.0<br>Location: 61<br>Country: 32\",\"File ID: 104<br>Name: 67<br>Date: 12.0<br>Month: 13<br>Year: 2004.0<br>Location: 85<br>Country: 32\",\"File ID: 105<br>Name: 30<br>Date: 21.0<br>Month: 11<br>Year: 2004.0<br>Location: 45<br>Country: 32\",\"File ID: 106<br>Name: 67<br>Date: 0.0<br>Month: 14<br>Year: 0.0<br>Location: 19<br>Country: 32\",\"File ID: 107<br>Name: 67<br>Date: 0.0<br>Month: 14<br>Year: 0.0<br>Location: 94<br>Country: 32\",\"File ID: 108<br>Name: 52<br>Date: 15.0<br>Month: 11<br>Year: 2004.0<br>Location: 94<br>Country: 32\",\"File ID: 109<br>Name: 67<br>Date: 21.0<br>Month: 11<br>Year: 2004.0<br>Location: 32<br>Country: 32\",\"File ID: 110<br>Name: 67<br>Date: 28.0<br>Month: 11<br>Year: 2004.0<br>Location: 94<br>Country: 32\",\"File ID: 111<br>Name: 67<br>Date: 0.0<br>Month: 14<br>Year: 0.0<br>Location: 94<br>Country: 32\",\"File ID: 45<br>Name: 6<br>Date: 3.0<br>Month: 4<br>Year: 2004.0<br>Location: 12<br>Country: 22\",\"File ID: 46<br>Name: 0<br>Date: 1.0<br>Month: 4<br>Year: 2004.0<br>Location: 15<br>Country: 1\",\"File ID: 47<br>Name: 33<br>Date: 16.0<br>Month: 4<br>Year: 2004.0<br>Location: 41<br>Country: 1\",\"File ID: 112<br>Name: 67<br>Date: 3.0<br>Month: 2<br>Year: 2004.0<br>Location: 86<br>Country: 29\",\"File ID: 113<br>Name: 67<br>Date: 0.0<br>Month: 14<br>Year: 0.0<br>Location: 62<br>Country: 29\"],\"x\":[1.2022618652262298,-1.5729900702076498,0.5827018266145257,-1.2166687604478135,-2.843188323124672,-1.6230505517799292,-3.183435896384145,0.16231380129087938,0.303643044176182,0.4116030964301678,-3.0598137955793043,-0.39788122243858376,-0.2962712663491029,-0.17081633783726144,-0.4699902945655847,-2.705277118671215,0.7401488993856997,-1.055845001360451,-1.8764147070787731,-1.3467619890218077,0.06653672645477544,-2.722159164332574,-1.0539054878779448,-0.3155074949888568,-1.4910350839262014,1.68096123896705,1.6433526432665007,-2.3764744788916583,-3.0226348779279593,-2.517757022207724,2.2285876830648004,-1.3816507206845974,-1.6124704633148423,0.223979568370156,-3.7490824078201044,-2.7937121303068344,-3.771189198675499,-2.971518715930303,1.0817940597688371,-2.5000756658099497,-1.48059236080277,-2.4908463228270956,-0.950858558062502,0.7184502028402429,1.3170106324437347,1.7210587143544207,0.1275573104789953,2.3287451485407473,1.3118514703121613,-0.09978826384990454,1.4710836997293057,-1.9513341899878869,0.0023478563276568692,-1.7195710025581106,-0.35200411258317754,1.341131573526692,2.336365901361254,2.471478037970054,1.5598796853704906,0.9405061594964342,1.1824494890314,-1.3873729017195653,-1.1858138431209675,3.1963369364247534,-0.10097274809249848,-0.5173524140123602,2.8189866983259075,-1.32001492714757,1.265922025629691,-2.771267130629145,2.642240189028832,2.573037807892912,-2.7770321253283377,-0.5093566725559426,-1.2392923264337619,2.6520435400699034,-1.6529602531373284,0.7572570813908731,0.8281801688093412,-3.5594744280514434,2.2720853692526872,3.111001874708773,2.896257175189108,1.5372762282416377,3.479654627534313,2.0538244408682185,1.0399454455116728,2.368411320696596,3.4776990436045945,-0.8318774648201198,1.8193085831200975,1.7352263212585222,-0.9908609451457623,-0.7984751422251111,-1.09227741201081,1.8993589969386704,3.168178858553479,-1.672619141478863,-0.49361969153225504,-0.7547310639569609,1.2554792041260512,1.0181086552452985,1.6382875018113487,-0.7283153288433736,-0.7219723750294444,1.2740012393933458,1.7291309810833226,2.220877437240606,-0.6975207313360697,0.4989392877757851,-0.6032297468035648,0.9370895683947806,2.6828016565862005,-0.4557667278826631],\"y\":[3.3408177984040064,2.9527891575751632,3.610847534047385,3.1506914050197676,0.1785791888813567,4.086924842138111,1.5475365108546384,2.423521290603771,4.352881193807168,3.1774995499714067,-0.2519594825214008,2.4787087443719313,1.580608706238018,3.0810681404422273,3.093924539564062,0.0405943795343074,1.9090976628683807,2.6417230501799702,1.5914143152787148,1.0197534042115222,2.892474499026882,0.6398469978470724,2.3425153835480317,1.3912545153860303,1.9937271162772199,1.6402567087664564,1.9386351381477143,-0.29610904348457345,1.3284237988254977,-1.0019134851758564,2.115277815028785,1.897272541853845,1.1128112673730097,0.9011602472224141,2.4545164989144443,0.4436626759429478,0.6536449105498857,0.8633523356237619,2.7597054822552938,-0.022990963675809873,1.6632826478398635,-0.7422246294419902,0.02006504926252745,1.3782733630052675,1.3622673911695353,2.513198905622198,-0.39692313569100707,0.6357679905662255,-1.2395604942629812,-0.8825368242341014,0.23414972683532445,1.8974556616006486,-0.33068308997864354,-1.404525968738141,-0.08153448289500378,-0.08199960960958996,-0.615631457481066,-0.5245758827322685,-1.2001840546741978,0.027436842774744563,0.8042520927598649,-2.1348828319137745,-1.1586212428467726,0.2186321631434798,0.7144497111445379,-0.49882511175161276,0.7386120359954393,-1.9416880629802986,0.6760402118819283,-0.8518643133931525,1.734755602179815,-0.8556990121526201,-1.3881435152039754,-1.8507253365241205,-2.4758045521918346,0.3793400120107818,-2.105632206549175,-1.1469420315846885,-1.6226906363347169,-1.6190032861118497,-0.060242622261529384,0.4921491751521042,-0.4730901625048243,-0.4410735227430951,-0.11832312701176664,-1.4569419220548152,-1.7846135378341665,-2.070905076192002,-1.4963010431758241,-3.123241934410791,-1.5056886459896897,-1.896594419765041,-2.783109413526719,-3.1865810608091096,-3.160747049006786,-2.378639900729055,-1.7964418250210454,-2.8526310556282133,-2.6856228650676974,-3.283857899278714,-2.953375138953631,-2.605853502770814,-2.022203547208913,-3.3506448700375397,-3.367619347660376,-2.2534635807245693,-2.5563795652608956,-2.607986912192717,-3.4367007319174605,1.447579218268914,4.169790133631443,2.603923469117633,-2.8554732729840016,-4.050718453686453],\"type\":\"scatter\"}],                        {\"template\":{\"data\":{\"histogram2dcontour\":[{\"type\":\"histogram2dcontour\",\"colorbar\":{\"outlinewidth\":0,\"ticks\":\"\"},\"colorscale\":[[0.0,\"#0d0887\"],[0.1111111111111111,\"#46039f\"],[0.2222222222222222,\"#7201a8\"],[0.3333333333333333,\"#9c179e\"],[0.4444444444444444,\"#bd3786\"],[0.5555555555555556,\"#d8576b\"],[0.6666666666666666,\"#ed7953\"],[0.7777777777777778,\"#fb9f3a\"],[0.8888888888888888,\"#fdca26\"],[1.0,\"#f0f921\"]]}],\"choropleth\":[{\"type\":\"choropleth\",\"colorbar\":{\"outlinewidth\":0,\"ticks\":\"\"}}],\"histogram2d\":[{\"type\":\"histogram2d\",\"colorbar\":{\"outlinewidth\":0,\"ticks\":\"\"},\"colorscale\":[[0.0,\"#0d0887\"],[0.1111111111111111,\"#46039f\"],[0.2222222222222222,\"#7201a8\"],[0.3333333333333333,\"#9c179e\"],[0.4444444444444444,\"#bd3786\"],[0.5555555555555556,\"#d8576b\"],[0.6666666666666666,\"#ed7953\"],[0.7777777777777778,\"#fb9f3a\"],[0.8888888888888888,\"#fdca26\"],[1.0,\"#f0f921\"]]}],\"heatmap\":[{\"type\":\"heatmap\",\"colorbar\":{\"outlinewidth\":0,\"ticks\":\"\"},\"colorscale\":[[0.0,\"#0d0887\"],[0.1111111111111111,\"#46039f\"],[0.2222222222222222,\"#7201a8\"],[0.3333333333333333,\"#9c179e\"],[0.4444444444444444,\"#bd3786\"],[0.5555555555555556,\"#d8576b\"],[0.6666666666666666,\"#ed7953\"],[0.7777777777777778,\"#fb9f3a\"],[0.8888888888888888,\"#fdca26\"],[1.0,\"#f0f921\"]]}],\"heatmapgl\":[{\"type\":\"heatmapgl\",\"colorbar\":{\"outlinewidth\":0,\"ticks\":\"\"},\"colorscale\":[[0.0,\"#0d0887\"],[0.1111111111111111,\"#46039f\"],[0.2222222222222222,\"#7201a8\"],[0.3333333333333333,\"#9c179e\"],[0.4444444444444444,\"#bd3786\"],[0.5555555555555556,\"#d8576b\"],[0.6666666666666666,\"#ed7953\"],[0.7777777777777778,\"#fb9f3a\"],[0.8888888888888888,\"#fdca26\"],[1.0,\"#f0f921\"]]}],\"contourcarpet\":[{\"type\":\"contourcarpet\",\"colorbar\":{\"outlinewidth\":0,\"ticks\":\"\"}}],\"contour\":[{\"type\":\"contour\",\"colorbar\":{\"outlinewidth\":0,\"ticks\":\"\"},\"colorscale\":[[0.0,\"#0d0887\"],[0.1111111111111111,\"#46039f\"],[0.2222222222222222,\"#7201a8\"],[0.3333333333333333,\"#9c179e\"],[0.4444444444444444,\"#bd3786\"],[0.5555555555555556,\"#d8576b\"],[0.6666666666666666,\"#ed7953\"],[0.7777777777777778,\"#fb9f3a\"],[0.8888888888888888,\"#fdca26\"],[1.0,\"#f0f921\"]]}],\"surface\":[{\"type\":\"surface\",\"colorbar\":{\"outlinewidth\":0,\"ticks\":\"\"},\"colorscale\":[[0.0,\"#0d0887\"],[0.1111111111111111,\"#46039f\"],[0.2222222222222222,\"#7201a8\"],[0.3333333333333333,\"#9c179e\"],[0.4444444444444444,\"#bd3786\"],[0.5555555555555556,\"#d8576b\"],[0.6666666666666666,\"#ed7953\"],[0.7777777777777778,\"#fb9f3a\"],[0.8888888888888888,\"#fdca26\"],[1.0,\"#f0f921\"]]}],\"mesh3d\":[{\"type\":\"mesh3d\",\"colorbar\":{\"outlinewidth\":0,\"ticks\":\"\"}}],\"scatter\":[{\"fillpattern\":{\"fillmode\":\"overlay\",\"size\":10,\"solidity\":0.2},\"type\":\"scatter\"}],\"parcoords\":[{\"type\":\"parcoords\",\"line\":{\"colorbar\":{\"outlinewidth\":0,\"ticks\":\"\"}}}],\"scatterpolargl\":[{\"type\":\"scatterpolargl\",\"marker\":{\"colorbar\":{\"outlinewidth\":0,\"ticks\":\"\"}}}],\"bar\":[{\"error_x\":{\"color\":\"#2a3f5f\"},\"error_y\":{\"color\":\"#2a3f5f\"},\"marker\":{\"line\":{\"color\":\"#E5ECF6\",\"width\":0.5},\"pattern\":{\"fillmode\":\"overlay\",\"size\":10,\"solidity\":0.2}},\"type\":\"bar\"}],\"scattergeo\":[{\"type\":\"scattergeo\",\"marker\":{\"colorbar\":{\"outlinewidth\":0,\"ticks\":\"\"}}}],\"scatterpolar\":[{\"type\":\"scatterpolar\",\"marker\":{\"colorbar\":{\"outlinewidth\":0,\"ticks\":\"\"}}}],\"histogram\":[{\"marker\":{\"pattern\":{\"fillmode\":\"overlay\",\"size\":10,\"solidity\":0.2}},\"type\":\"histogram\"}],\"scattergl\":[{\"type\":\"scattergl\",\"marker\":{\"colorbar\":{\"outlinewidth\":0,\"ticks\":\"\"}}}],\"scatter3d\":[{\"type\":\"scatter3d\",\"line\":{\"colorbar\":{\"outlinewidth\":0,\"ticks\":\"\"}},\"marker\":{\"colorbar\":{\"outlinewidth\":0,\"ticks\":\"\"}}}],\"scattermapbox\":[{\"type\":\"scattermapbox\",\"marker\":{\"colorbar\":{\"outlinewidth\":0,\"ticks\":\"\"}}}],\"scatterternary\":[{\"type\":\"scatterternary\",\"marker\":{\"colorbar\":{\"outlinewidth\":0,\"ticks\":\"\"}}}],\"scattercarpet\":[{\"type\":\"scattercarpet\",\"marker\":{\"colorbar\":{\"outlinewidth\":0,\"ticks\":\"\"}}}],\"carpet\":[{\"aaxis\":{\"endlinecolor\":\"#2a3f5f\",\"gridcolor\":\"white\",\"linecolor\":\"white\",\"minorgridcolor\":\"white\",\"startlinecolor\":\"#2a3f5f\"},\"baxis\":{\"endlinecolor\":\"#2a3f5f\",\"gridcolor\":\"white\",\"linecolor\":\"white\",\"minorgridcolor\":\"white\",\"startlinecolor\":\"#2a3f5f\"},\"type\":\"carpet\"}],\"table\":[{\"cells\":{\"fill\":{\"color\":\"#EBF0F8\"},\"line\":{\"color\":\"white\"}},\"header\":{\"fill\":{\"color\":\"#C8D4E3\"},\"line\":{\"color\":\"white\"}},\"type\":\"table\"}],\"barpolar\":[{\"marker\":{\"line\":{\"color\":\"#E5ECF6\",\"width\":0.5},\"pattern\":{\"fillmode\":\"overlay\",\"size\":10,\"solidity\":0.2}},\"type\":\"barpolar\"}],\"pie\":[{\"automargin\":true,\"type\":\"pie\"}]},\"layout\":{\"autotypenumbers\":\"strict\",\"colorway\":[\"#636efa\",\"#EF553B\",\"#00cc96\",\"#ab63fa\",\"#FFA15A\",\"#19d3f3\",\"#FF6692\",\"#B6E880\",\"#FF97FF\",\"#FECB52\"],\"font\":{\"color\":\"#2a3f5f\"},\"hovermode\":\"closest\",\"hoverlabel\":{\"align\":\"left\"},\"paper_bgcolor\":\"white\",\"plot_bgcolor\":\"#E5ECF6\",\"polar\":{\"bgcolor\":\"#E5ECF6\",\"angularaxis\":{\"gridcolor\":\"white\",\"linecolor\":\"white\",\"ticks\":\"\"},\"radialaxis\":{\"gridcolor\":\"white\",\"linecolor\":\"white\",\"ticks\":\"\"}},\"ternary\":{\"bgcolor\":\"#E5ECF6\",\"aaxis\":{\"gridcolor\":\"white\",\"linecolor\":\"white\",\"ticks\":\"\"},\"baxis\":{\"gridcolor\":\"white\",\"linecolor\":\"white\",\"ticks\":\"\"},\"caxis\":{\"gridcolor\":\"white\",\"linecolor\":\"white\",\"ticks\":\"\"}},\"coloraxis\":{\"colorbar\":{\"outlinewidth\":0,\"ticks\":\"\"}},\"colorscale\":{\"sequential\":[[0.0,\"#0d0887\"],[0.1111111111111111,\"#46039f\"],[0.2222222222222222,\"#7201a8\"],[0.3333333333333333,\"#9c179e\"],[0.4444444444444444,\"#bd3786\"],[0.5555555555555556,\"#d8576b\"],[0.6666666666666666,\"#ed7953\"],[0.7777777777777778,\"#fb9f3a\"],[0.8888888888888888,\"#fdca26\"],[1.0,\"#f0f921\"]],\"sequentialminus\":[[0.0,\"#0d0887\"],[0.1111111111111111,\"#46039f\"],[0.2222222222222222,\"#7201a8\"],[0.3333333333333333,\"#9c179e\"],[0.4444444444444444,\"#bd3786\"],[0.5555555555555556,\"#d8576b\"],[0.6666666666666666,\"#ed7953\"],[0.7777777777777778,\"#fb9f3a\"],[0.8888888888888888,\"#fdca26\"],[1.0,\"#f0f921\"]],\"diverging\":[[0,\"#8e0152\"],[0.1,\"#c51b7d\"],[0.2,\"#de77ae\"],[0.3,\"#f1b6da\"],[0.4,\"#fde0ef\"],[0.5,\"#f7f7f7\"],[0.6,\"#e6f5d0\"],[0.7,\"#b8e186\"],[0.8,\"#7fbc41\"],[0.9,\"#4d9221\"],[1,\"#276419\"]]},\"xaxis\":{\"gridcolor\":\"white\",\"linecolor\":\"white\",\"ticks\":\"\",\"title\":{\"standoff\":15},\"zerolinecolor\":\"white\",\"automargin\":true,\"zerolinewidth\":2},\"yaxis\":{\"gridcolor\":\"white\",\"linecolor\":\"white\",\"ticks\":\"\",\"title\":{\"standoff\":15},\"zerolinecolor\":\"white\",\"automargin\":true,\"zerolinewidth\":2},\"scene\":{\"xaxis\":{\"backgroundcolor\":\"#E5ECF6\",\"gridcolor\":\"white\",\"linecolor\":\"white\",\"showbackground\":true,\"ticks\":\"\",\"zerolinecolor\":\"white\",\"gridwidth\":2},\"yaxis\":{\"backgroundcolor\":\"#E5ECF6\",\"gridcolor\":\"white\",\"linecolor\":\"white\",\"showbackground\":true,\"ticks\":\"\",\"zerolinecolor\":\"white\",\"gridwidth\":2},\"zaxis\":{\"backgroundcolor\":\"#E5ECF6\",\"gridcolor\":\"white\",\"linecolor\":\"white\",\"showbackground\":true,\"ticks\":\"\",\"zerolinecolor\":\"white\",\"gridwidth\":2}},\"shapedefaults\":{\"line\":{\"color\":\"#2a3f5f\"}},\"annotationdefaults\":{\"arrowcolor\":\"#2a3f5f\",\"arrowhead\":0,\"arrowwidth\":1},\"geo\":{\"bgcolor\":\"white\",\"landcolor\":\"#E5ECF6\",\"subunitcolor\":\"white\",\"showland\":true,\"showlakes\":true,\"lakecolor\":\"white\"},\"title\":{\"x\":0.05},\"mapbox\":{\"style\":\"light\"}}},\"title\":{\"text\":\"Interactive Scatter Plot of MDS Results\"}},                        {\"responsive\": true}                    ).then(function(){\n",
       "                            \n",
       "var gd = document.getElementById('42fbb7d2-ea2f-4467-b9ab-28a0e15823ad');\n",
       "var x = new MutationObserver(function (mutations, observer) {{\n",
       "        var display = window.getComputedStyle(gd).display;\n",
       "        if (!display || display === 'none') {{\n",
       "            console.log([gd, 'removed!']);\n",
       "            Plotly.purge(gd);\n",
       "            observer.disconnect();\n",
       "        }}\n",
       "}});\n",
       "\n",
       "// Listen for the removal of the full notebook cells\n",
       "var notebookContainer = gd.closest('#notebook-container');\n",
       "if (notebookContainer) {{\n",
       "    x.observe(notebookContainer, {childList: true});\n",
       "}}\n",
       "\n",
       "// Listen for the clearing of the current output cell\n",
       "var outputEl = gd.closest('.output');\n",
       "if (outputEl) {{\n",
       "    x.observe(outputEl, {childList: true});\n",
       "}}\n",
       "\n",
       "                        })                };                });            </script>        </div>"
      ]
     },
     "metadata": {},
     "output_type": "display_data"
    }
   ],
   "source": [
    "import pandas as pd\n",
    "import numpy as np\n",
    "import plotly.graph_objects as go\n",
    "from sklearn.manifold import MDS\n",
    "from scipy.cluster.hierarchy import linkage, dendrogram\n",
    "from sklearn import manifold\n",
    "from sklearn.preprocessing import LabelEncoder\n",
    "from sklearn import preprocessing\n",
    "from sklearn.metrics import pairwise_distances\n",
    "\n",
    "# read in xls data\n",
    "data = pd.read_excel(r\"C:\\Users\\student\\Downloads\\Visual Analytics\\P3\\VA_Project2_data.xlsx\")\n",
    "\n",
    "# label encode categorical features\n",
    "le = LabelEncoder()\n",
    "data['Intelligence Agency'] = le.fit_transform(data['Intelligence Agency'])\n",
    "data['File Id'] = le.fit_transform(data['File Id'])\n",
    "data['Crime'] = le.fit_transform(data['Crime'])\n",
    "data['Name'] = le.fit_transform(data['Name'])\n",
    "data[' Location'] = le.fit_transform(data[' Location'])\n",
    "data[' Country'] = le.fit_transform(data[' Country'])\n",
    "data[' Month'] = le.fit_transform(data[' Month'])\n",
    "data['Organization'] = le.fit_transform(data['Organization'])\n",
    "\n",
    "# fill missing values with 0\n",
    "data.fillna(0, inplace=True)\n",
    "\n",
    "# select features to use\n",
    "feature_names = ['Intelligence Agency', 'File Id',' Date', ' Country', ' Month', 'Year', 'Name', 'Organization']\n",
    "X = data[feature_names].values\n",
    "\n",
    "# standardize features\n",
    "scaled_data = preprocessing.scale(X)\n",
    "\n",
    "# compute pairwise dissimilarities\n",
    "dissimilarities = pairwise_distances(scaled_data, metric='euclidean')\n",
    "\n",
    "# compute MDS\n",
    "mds = MDS(dissimilarity='precomputed')\n",
    "X_mds = mds.fit_transform(dissimilarities)\n",
    "\n",
    "# create hover text with file IDs and names\n",
    "#hover_text = [\"File ID: \" + str(file_id) + \"<br>\" + \"Name: \" + name for file_id, name in zip(data['File Id'], data['Name'])]\n",
    " # create hover text with file IDs and names\n",
    "#hover_text = [\"File ID: \" + str(file_id) + \"<br>\" + \"Name: \" + str(name) for file_id, name in zip(data['File Id'], data['Name'])]\n",
    " \n",
    "# create hover text with file IDs, names, and other information\n",
    "#hover_text = [\"File ID: \" + str(file_id) + \"<br>\" + \"Name: \" + name + \"<br>\" + \" Date: \" + str(date) + \"<br>\" + \" Month: \" + str(month) + \"<br>\" + \"Year: \" + str(year) + \"<br>\" + \"Location: \" + location + \"<br>\" + \"Country: \" + country for file_id, name, date, month, year, location, country in zip(data['File Id'], data['Name'], data[' Date'], data[' Month'], data['Year'], data[' Location'], data[' Country'])]\n",
    " \n",
    "# create hover text with file IDs, names, dates, months, years, locations, and countries\n",
    "hover_text = [\"File ID: \" + str(file_id) + \"<br>\" +\n",
    "              \"Name: \" + str(name) + \"<br>\" +\n",
    "              \"Date: \" + str(date) + \"<br>\" +\n",
    "              \"Month: \" + str(month) + \"<br>\" +\n",
    "              \"Year: \" + str(year) + \"<br>\" +\n",
    "              \"Location: \" + str(location) + \"<br>\" +\n",
    "              \"Country: \" + str(country) for file_id, name, date, month, year, location, country in\n",
    "              zip(data['File Id'], data['Name'], data[' Date'], data[' Month'], data['Year'], data[' Location'], data[' Country'])]\n",
    "    \n",
    "    \n",
    "# create categorical color scale based on country\n",
    "countries = data[' Country'].unique()\n",
    "color_scale = [np.where(countries == c)[0][0] for c in data[' Country']]\n",
    "\n",
    "# create scatter plot with hover text and categorical color scale\n",
    "fig = go.Figure(data=go.Scatter(\n",
    "    x=X_mds[:, 0], \n",
    "    y=X_mds[:, 1],\n",
    "    mode='markers',\n",
    "    text=hover_text,\n",
    "    hoverinfo='text',\n",
    "        marker=dict(\n",
    "    color=color_scale,\n",
    "    colorscale='Viridis'\n",
    ")\n",
    "\n",
    "    )\n",
    ")\n",
    "\n",
    "fig.update_layout(title='Interactive Scatter Plot of MDS Results')\n",
    "fig.show()\n"
   ]
  },
  {
   "cell_type": "code",
   "execution_count": null,
   "id": "21d745bb",
   "metadata": {},
   "outputs": [],
   "source": []
  }
 ],
 "metadata": {
  "kernelspec": {
   "display_name": "Python 3 (ipykernel)",
   "language": "python",
   "name": "python3"
  },
  "language_info": {
   "codemirror_mode": {
    "name": "ipython",
    "version": 3
   },
   "file_extension": ".py",
   "mimetype": "text/x-python",
   "name": "python",
   "nbconvert_exporter": "python",
   "pygments_lexer": "ipython3",
   "version": "3.9.0"
  }
 },
 "nbformat": 4,
 "nbformat_minor": 5
}
